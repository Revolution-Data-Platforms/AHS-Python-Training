{
 "cells": [
  {
   "cell_type": "markdown",
   "metadata": {},
   "source": [
    "##### Importing Required Libraries"
   ]
  },
  {
   "cell_type": "code",
   "execution_count": 17,
   "metadata": {},
   "outputs": [],
   "source": [
    "import os\n",
    "from langchain_openai import AzureChatOpenAI\n",
    "from langchain_openai import AzureOpenAI\n",
    "from langchain_core.prompts import PromptTemplate\n",
    "from langchain_core.prompts import ChatPromptTemplate\n",
    "from langchain_core.messages import SystemMessage\n",
    "from langchain_core.prompts import HumanMessagePromptTemplate\n",
    "from langchain_core.prompts import FewShotChatMessagePromptTemplate\n",
    "\n",
    "from dotenv import load_dotenv"
   ]
  },
  {
   "cell_type": "markdown",
   "metadata": {},
   "source": [
    "##### Large Language Model (LLM) "
   ]
  },
  {
   "cell_type": "code",
   "execution_count": 18,
   "metadata": {},
   "outputs": [],
   "source": [
    "load_dotenv(dotenv_path = r'C:..\\LangChain\\Examples\\.env') #Path to you .env file\n",
    "llm = AzureChatOpenAI(\n",
    "    azure_deployment=os.environ[\"AZURE_OPENAI_CHAT_DEPLOYMENT_NAME\"],  \n",
    "    openai_api_version=os.environ[\"AZURE_OPENAI_API_VERSION\"],\n",
    "    temperature=0.6,\n",
    ")\n",
    "\n"
   ]
  },
  {
   "cell_type": "code",
   "execution_count": 19,
   "metadata": {},
   "outputs": [
    {
     "name": "stdout",
     "output_type": "stream",
     "text": [
      "gpt-35-turbo\n",
      "2023-03-15-preview\n"
     ]
    }
   ],
   "source": [
    "print(os.environ.get(\"AZURE_OPENAI_CHAT_DEPLOYMENT_NAME\"))\n",
    "print(os.environ.get(\"AZURE_OPENAI_API_VERSION\"))"
   ]
  },
  {
   "cell_type": "code",
   "execution_count": 20,
   "metadata": {},
   "outputs": [
    {
     "data": {
      "text/plain": [
       "AIMessage(content='Some fruits that are red in color are:\\n\\n1. Strawberry\\n2. Raspberry\\n3. Cherry\\n4. Cranberry\\n5. Watermelon\\n6. Pomegranate\\n7. Red apple\\n8. Red grapefruit\\n9. Red pear\\n10. Red plum', additional_kwargs={}, response_metadata={'token_usage': {'completion_tokens': 58, 'prompt_tokens': 18, 'total_tokens': 76, 'completion_tokens_details': None}, 'model_name': 'gpt-35-turbo', 'system_fingerprint': None, 'finish_reason': 'stop', 'logprobs': None, 'content_filter_results': {}}, id='run-845be476-4e3b-4d74-b4cc-8bbca52ba3d3-0', usage_metadata={'input_tokens': 18, 'output_tokens': 58, 'total_tokens': 76})"
      ]
     },
     "execution_count": 20,
     "metadata": {},
     "output_type": "execute_result"
    }
   ],
   "source": [
    "# using invoke method\n",
    "llm.invoke(\n",
    "    \"What are some fruits that are red in colour?\"\n",
    ")"
   ]
  },
  {
   "cell_type": "code",
   "execution_count": 21,
   "metadata": {},
   "outputs": [
    {
     "name": "stdout",
     "output_type": "stream",
     "text": [
      "content='' additional_kwargs={} response_metadata={} id='run-7daefbba-6389-45a6-bf1c-4d0935cd2590'content='Some' additional_kwargs={} response_metadata={} id='run-7daefbba-6389-45a6-bf1c-4d0935cd2590'content=' fruits' additional_kwargs={} response_metadata={} id='run-7daefbba-6389-45a6-bf1c-4d0935cd2590'content=' that' additional_kwargs={} response_metadata={} id='run-7daefbba-6389-45a6-bf1c-4d0935cd2590'content=' are' additional_kwargs={} response_metadata={} id='run-7daefbba-6389-45a6-bf1c-4d0935cd2590'content=' red' additional_kwargs={} response_metadata={} id='run-7daefbba-6389-45a6-bf1c-4d0935cd2590'content=' in' additional_kwargs={} response_metadata={} id='run-7daefbba-6389-45a6-bf1c-4d0935cd2590'content=' color' additional_kwargs={} response_metadata={} id='run-7daefbba-6389-45a6-bf1c-4d0935cd2590'content=' are' additional_kwargs={} response_metadata={} id='run-7daefbba-6389-45a6-bf1c-4d0935cd2590'content=':\\n\\n' additional_kwargs={} response_metadata={} id='run-7daefbba-6389-45a6-bf1c-4d0935cd2590'content='1' additional_kwargs={} response_metadata={} id='run-7daefbba-6389-45a6-bf1c-4d0935cd2590'content='.' additional_kwargs={} response_metadata={} id='run-7daefbba-6389-45a6-bf1c-4d0935cd2590'content=' App' additional_kwargs={} response_metadata={} id='run-7daefbba-6389-45a6-bf1c-4d0935cd2590'content='les' additional_kwargs={} response_metadata={} id='run-7daefbba-6389-45a6-bf1c-4d0935cd2590'content='\\n' additional_kwargs={} response_metadata={} id='run-7daefbba-6389-45a6-bf1c-4d0935cd2590'content='2' additional_kwargs={} response_metadata={} id='run-7daefbba-6389-45a6-bf1c-4d0935cd2590'content='.' additional_kwargs={} response_metadata={} id='run-7daefbba-6389-45a6-bf1c-4d0935cd2590'content=' Straw' additional_kwargs={} response_metadata={} id='run-7daefbba-6389-45a6-bf1c-4d0935cd2590'content='berries' additional_kwargs={} response_metadata={} id='run-7daefbba-6389-45a6-bf1c-4d0935cd2590'content='\\n' additional_kwargs={} response_metadata={} id='run-7daefbba-6389-45a6-bf1c-4d0935cd2590'content='3' additional_kwargs={} response_metadata={} id='run-7daefbba-6389-45a6-bf1c-4d0935cd2590'content='.' additional_kwargs={} response_metadata={} id='run-7daefbba-6389-45a6-bf1c-4d0935cd2590'content=' R' additional_kwargs={} response_metadata={} id='run-7daefbba-6389-45a6-bf1c-4d0935cd2590'content='asp' additional_kwargs={} response_metadata={} id='run-7daefbba-6389-45a6-bf1c-4d0935cd2590'content='berries' additional_kwargs={} response_metadata={} id='run-7daefbba-6389-45a6-bf1c-4d0935cd2590'content='\\n' additional_kwargs={} response_metadata={} id='run-7daefbba-6389-45a6-bf1c-4d0935cd2590'content='4' additional_kwargs={} response_metadata={} id='run-7daefbba-6389-45a6-bf1c-4d0935cd2590'content='.' additional_kwargs={} response_metadata={} id='run-7daefbba-6389-45a6-bf1c-4d0935cd2590'content=' Cher' additional_kwargs={} response_metadata={} id='run-7daefbba-6389-45a6-bf1c-4d0935cd2590'content='ries' additional_kwargs={} response_metadata={} id='run-7daefbba-6389-45a6-bf1c-4d0935cd2590'content='\\n' additional_kwargs={} response_metadata={} id='run-7daefbba-6389-45a6-bf1c-4d0935cd2590'content='5' additional_kwargs={} response_metadata={} id='run-7daefbba-6389-45a6-bf1c-4d0935cd2590'content='.' additional_kwargs={} response_metadata={} id='run-7daefbba-6389-45a6-bf1c-4d0935cd2590'content=' Water' additional_kwargs={} response_metadata={} id='run-7daefbba-6389-45a6-bf1c-4d0935cd2590'content='mel' additional_kwargs={} response_metadata={} id='run-7daefbba-6389-45a6-bf1c-4d0935cd2590'content='ons' additional_kwargs={} response_metadata={} id='run-7daefbba-6389-45a6-bf1c-4d0935cd2590'content='\\n' additional_kwargs={} response_metadata={} id='run-7daefbba-6389-45a6-bf1c-4d0935cd2590'content='6' additional_kwargs={} response_metadata={} id='run-7daefbba-6389-45a6-bf1c-4d0935cd2590'content='.' additional_kwargs={} response_metadata={} id='run-7daefbba-6389-45a6-bf1c-4d0935cd2590'content=' P' additional_kwargs={} response_metadata={} id='run-7daefbba-6389-45a6-bf1c-4d0935cd2590'content='ome' additional_kwargs={} response_metadata={} id='run-7daefbba-6389-45a6-bf1c-4d0935cd2590'content='gran' additional_kwargs={} response_metadata={} id='run-7daefbba-6389-45a6-bf1c-4d0935cd2590'content='ates' additional_kwargs={} response_metadata={} id='run-7daefbba-6389-45a6-bf1c-4d0935cd2590'content='\\n' additional_kwargs={} response_metadata={} id='run-7daefbba-6389-45a6-bf1c-4d0935cd2590'content='7' additional_kwargs={} response_metadata={} id='run-7daefbba-6389-45a6-bf1c-4d0935cd2590'content='.' additional_kwargs={} response_metadata={} id='run-7daefbba-6389-45a6-bf1c-4d0935cd2590'content=' Cran' additional_kwargs={} response_metadata={} id='run-7daefbba-6389-45a6-bf1c-4d0935cd2590'content='berries' additional_kwargs={} response_metadata={} id='run-7daefbba-6389-45a6-bf1c-4d0935cd2590'content='\\n' additional_kwargs={} response_metadata={} id='run-7daefbba-6389-45a6-bf1c-4d0935cd2590'content='8' additional_kwargs={} response_metadata={} id='run-7daefbba-6389-45a6-bf1c-4d0935cd2590'content='.' additional_kwargs={} response_metadata={} id='run-7daefbba-6389-45a6-bf1c-4d0935cd2590'content=' Red' additional_kwargs={} response_metadata={} id='run-7daefbba-6389-45a6-bf1c-4d0935cd2590'content=' grapes' additional_kwargs={} response_metadata={} id='run-7daefbba-6389-45a6-bf1c-4d0935cd2590'content='\\n' additional_kwargs={} response_metadata={} id='run-7daefbba-6389-45a6-bf1c-4d0935cd2590'content='9' additional_kwargs={} response_metadata={} id='run-7daefbba-6389-45a6-bf1c-4d0935cd2590'content='.' additional_kwargs={} response_metadata={} id='run-7daefbba-6389-45a6-bf1c-4d0935cd2590'content=' Tom' additional_kwargs={} response_metadata={} id='run-7daefbba-6389-45a6-bf1c-4d0935cd2590'content='atoes' additional_kwargs={} response_metadata={} id='run-7daefbba-6389-45a6-bf1c-4d0935cd2590'content='\\n' additional_kwargs={} response_metadata={} id='run-7daefbba-6389-45a6-bf1c-4d0935cd2590'content='10' additional_kwargs={} response_metadata={} id='run-7daefbba-6389-45a6-bf1c-4d0935cd2590'content='.' additional_kwargs={} response_metadata={} id='run-7daefbba-6389-45a6-bf1c-4d0935cd2590'content=' Red' additional_kwargs={} response_metadata={} id='run-7daefbba-6389-45a6-bf1c-4d0935cd2590'content=' curr' additional_kwargs={} response_metadata={} id='run-7daefbba-6389-45a6-bf1c-4d0935cd2590'content='ants' additional_kwargs={} response_metadata={} id='run-7daefbba-6389-45a6-bf1c-4d0935cd2590'content='' additional_kwargs={} response_metadata={'finish_reason': 'stop', 'model_name': 'gpt-35-turbo'} id='run-7daefbba-6389-45a6-bf1c-4d0935cd2590'"
     ]
    }
   ],
   "source": [
    "# using stream method\n",
    "for chunk in llm.stream(\n",
    "    \"What are some fruits that are red in colour?\"\n",
    "):\n",
    "    print(chunk, end=\"\", flush=True)"
   ]
  },
  {
   "cell_type": "code",
   "execution_count": 22,
   "metadata": {},
   "outputs": [
    {
     "data": {
      "text/plain": [
       "[AIMessage(content='Some fruits that are red in color are strawberries, raspberries, cherries, watermelons, tomatoes, red apples, cranberries, pomegranates, and red grapes.', additional_kwargs={}, response_metadata={'token_usage': {'completion_tokens': 37, 'prompt_tokens': 18, 'total_tokens': 55, 'completion_tokens_details': None}, 'model_name': 'gpt-35-turbo', 'system_fingerprint': None, 'finish_reason': 'stop', 'logprobs': None, 'content_filter_results': {}}, id='run-f7f22eb3-d819-41eb-988a-faa987dc4ecd-0', usage_metadata={'input_tokens': 18, 'output_tokens': 37, 'total_tokens': 55}),\n",
       " AIMessage(content='Some fruits that are blue in color are blueberries, blackberries, and elderberries.', additional_kwargs={}, response_metadata={'token_usage': {'completion_tokens': 18, 'prompt_tokens': 18, 'total_tokens': 36, 'completion_tokens_details': None}, 'model_name': 'gpt-35-turbo', 'system_fingerprint': None, 'finish_reason': 'stop', 'logprobs': None, 'content_filter_results': {}}, id='run-0bb51f51-8c3a-498a-bf84-0c0d4978397e-0', usage_metadata={'input_tokens': 18, 'output_tokens': 18, 'total_tokens': 36})]"
      ]
     },
     "execution_count": 22,
     "metadata": {},
     "output_type": "execute_result"
    }
   ],
   "source": [
    "# using batch method\n",
    "llm.batch(\n",
    "    [\n",
    "         \"What are some fruits that are red in colour?\",\n",
    "          \"What are some fruits that are blue in colour?\"\n",
    "    ]\n",
    ")"
   ]
  },
  {
   "cell_type": "markdown",
   "metadata": {},
   "source": [
    "##### Prompts Template"
   ]
  },
  {
   "cell_type": "markdown",
   "metadata": {},
   "source": [
    "By default, PromptTemplate uses Python's str.format syntax for templating."
   ]
  },
  {
   "cell_type": "code",
   "execution_count": 23,
   "metadata": {},
   "outputs": [
    {
     "data": {
      "text/plain": [
       "'Tell me a funny joke about chickens.'"
      ]
     },
     "execution_count": 23,
     "metadata": {},
     "output_type": "execute_result"
    }
   ],
   "source": [
    "prompt_template = PromptTemplate.from_template(\n",
    "    \"Tell me a {adjective} joke about {content}.\"\n",
    ")\n",
    "prompt_template.format(adjective=\"funny\", content=\"chickens\")"
   ]
  },
  {
   "cell_type": "markdown",
   "metadata": {},
   "source": [
    "The template supports any number of variables, including no variables:"
   ]
  },
  {
   "cell_type": "code",
   "execution_count": 24,
   "metadata": {},
   "outputs": [
    {
     "data": {
      "text/plain": [
       "'Tell me a joke'"
      ]
     },
     "execution_count": 24,
     "metadata": {},
     "output_type": "execute_result"
    }
   ],
   "source": [
    "prompt_template = PromptTemplate.from_template(\"Tell me a joke\")\n",
    "prompt_template.format()"
   ]
  },
  {
   "cell_type": "markdown",
   "metadata": {},
   "source": [
    "The prompt to chat models/ is a list of chat messages."
   ]
  },
  {
   "cell_type": "code",
   "execution_count": 25,
   "metadata": {},
   "outputs": [
    {
     "name": "stdout",
     "output_type": "stream",
     "text": [
      "[SystemMessage(content=\"You are a helpful assistant that re-writes the user's text to sound more upbeat.\", additional_kwargs={}, response_metadata={}), HumanMessage(content=\"I don't like eating tasty things\", additional_kwargs={}, response_metadata={})]\n",
      "content='Let\\'s try to put a positive spin on that! How about: \"I enjoy exploring new and healthy food options that nourish my body and make me feel great!\"' additional_kwargs={} response_metadata={'token_usage': {'completion_tokens': 34, 'prompt_tokens': 38, 'total_tokens': 72, 'completion_tokens_details': None}, 'model_name': 'gpt-35-turbo', 'system_fingerprint': None, 'finish_reason': 'stop', 'logprobs': None, 'content_filter_results': {}} id='run-f04f5651-1325-4e6e-9304-f34709dac69f-0' usage_metadata={'input_tokens': 38, 'output_tokens': 34, 'total_tokens': 72}\n"
     ]
    }
   ],
   "source": [
    "chat_template = ChatPromptTemplate.from_messages(\n",
    "    [\n",
    "        SystemMessage(\n",
    "            content=(\n",
    "                \"You are a helpful assistant that re-writes the user's text to \"\n",
    "                \"sound more upbeat.\"\n",
    "            )\n",
    "        ),\n",
    "        HumanMessagePromptTemplate.from_template(\"{text}\"),\n",
    "    ]\n",
    ")\n",
    "messages = chat_template.format_messages(text=\"I don't like eating tasty things\")\n",
    "print(messages)\n",
    "\n",
    "response = llm.invoke(messages)\n",
    "print(response)"
   ]
  },
  {
   "cell_type": "markdown",
   "metadata": {},
   "source": [
    "Few-shot examples for chat models"
   ]
  },
  {
   "cell_type": "code",
   "execution_count": 26,
   "metadata": {},
   "outputs": [
    {
     "name": "stdout",
     "output_type": "stream",
     "text": [
      "Human: 2+2\n",
      "AI: 4\n",
      "Human: 2+3\n",
      "AI: 5\n"
     ]
    }
   ],
   "source": [
    "# define the examples you'd like to include\n",
    "examples = [\n",
    "    {\"input\": \"2+2\", \"output\": \"4\"},\n",
    "    {\"input\": \"2+3\", \"output\": \"5\"},\n",
    "]\n",
    "\n",
    "# This is a prompt template used to format each individual example.\n",
    "example_prompt = ChatPromptTemplate.from_messages(\n",
    "    [\n",
    "        (\"human\", \"{input}\"),\n",
    "        (\"ai\", \"{output}\"),\n",
    "    ]\n",
    ")\n",
    "few_shot_prompt = FewShotChatMessagePromptTemplate(\n",
    "    example_prompt=example_prompt,\n",
    "    examples=examples,\n",
    ")\n",
    "\n",
    "print(few_shot_prompt.format())\n"
   ]
  },
  {
   "cell_type": "code",
   "execution_count": 27,
   "metadata": {},
   "outputs": [],
   "source": [
    "final_prompt = ChatPromptTemplate.from_messages(\n",
    "    [\n",
    "        (\"system\", \"You are a wondrous wizard of math.\"),\n",
    "        few_shot_prompt,\n",
    "        (\"human\", \"{input}\"),\n",
    "    ]\n",
    ")\n"
   ]
  },
  {
   "cell_type": "code",
   "execution_count": 28,
   "metadata": {},
   "outputs": [
    {
     "data": {
      "text/plain": [
       "AIMessage(content=\"A triangle does not have a square. However, the area of a triangle can be calculated using the formula A = 1/2 * base * height, where base is the length of the triangle's base and height is the perpendicular distance from the base to the opposite vertex.\", additional_kwargs={}, response_metadata={'token_usage': {'completion_tokens': 56, 'prompt_tokens': 58, 'total_tokens': 114, 'completion_tokens_details': None}, 'model_name': 'gpt-35-turbo', 'system_fingerprint': None, 'finish_reason': 'stop', 'logprobs': None, 'content_filter_results': {}}, id='run-e034eabd-6fcd-4270-8b02-90f83e5c61bc-0', usage_metadata={'input_tokens': 58, 'output_tokens': 56, 'total_tokens': 114})"
      ]
     },
     "execution_count": 28,
     "metadata": {},
     "output_type": "execute_result"
    }
   ],
   "source": [
    "\n",
    "chain = final_prompt | llm\n",
    "\n",
    "chain.invoke({\"input\": \"What's the square of a triangle?\"})"
   ]
  },
  {
   "cell_type": "markdown",
   "metadata": {},
   "source": [
    "##### Memory -- ConversationBufferMemory Example"
   ]
  },
  {
   "cell_type": "code",
   "execution_count": 36,
   "metadata": {},
   "outputs": [
    {
     "name": "stderr",
     "output_type": "stream",
     "text": [
      "Error in StdOutCallbackHandler.on_chain_start callback: AttributeError(\"'NoneType' object has no attribute 'get'\")\n"
     ]
    },
    {
     "name": "stdout",
     "output_type": "stream",
     "text": [
      "Prompt after formatting:\n",
      "\u001b[32;1m\u001b[1;3mSystem: You are a chatbot having a conversation with a human.\n",
      "Human: Hi there my friend\u001b[0m\n",
      "\n",
      "\u001b[1m> Finished chain.\u001b[0m\n"
     ]
    },
    {
     "data": {
      "text/plain": [
       "'Hello! How can I assist you today?'"
      ]
     },
     "execution_count": 36,
     "metadata": {},
     "output_type": "execute_result"
    }
   ],
   "source": [
    "\n",
    "from langchain.prompts import PromptTemplate\n",
    "from langchain.memory import ConversationBufferMemory\n",
    "from langchain.chains import LLMChain\n",
    "from langchain_core.prompts import MessagesPlaceholder\n",
    "\n",
    "\n",
    "# Define your prompt template\n",
    "prompt = ChatPromptTemplate.from_messages(\n",
    "    [\n",
    "        SystemMessage(\n",
    "            content=\"You are a chatbot having a conversation with a human.\"\n",
    "        ),  # The persistent system prompt\n",
    "        MessagesPlaceholder(\n",
    "            variable_name=\"chat_history\"\n",
    "        ),  # Where the memory will be stored.\n",
    "        HumanMessagePromptTemplate.from_template(\n",
    "            \"{human_input}\"\n",
    "        ),  # Where the human input will injected\n",
    "    ]\n",
    ")\n",
    "\n",
    "memory = ConversationBufferMemory(memory_key=\"chat_history\", return_messages=True)\n",
    "\n",
    "\n",
    "# Create the LLMChain\n",
    "llm_chain = LLMChain(\n",
    "    llm=llm,\n",
    "    prompt=prompt,\n",
    "    memory=memory,\n",
    "    verbose=True\n",
    "    \n",
    ")\n",
    "\n",
    "# Example user input\n",
    "llm_chain.predict(human_input=\"Hi there my friend\")\n",
    "\n"
   ]
  },
  {
   "cell_type": "code",
   "execution_count": 37,
   "metadata": {},
   "outputs": [
    {
     "name": "stderr",
     "output_type": "stream",
     "text": [
      "Error in StdOutCallbackHandler.on_chain_start callback: AttributeError(\"'NoneType' object has no attribute 'get'\")\n"
     ]
    },
    {
     "name": "stdout",
     "output_type": "stream",
     "text": [
      "Prompt after formatting:\n",
      "\u001b[32;1m\u001b[1;3mSystem: You are a chatbot having a conversation with a human.\n",
      "Human: Hi there my friend\n",
      "AI: Hello! How can I assist you today?\n",
      "Human: Not too bad - how are you?\u001b[0m\n",
      "\n",
      "\u001b[1m> Finished chain.\u001b[0m\n"
     ]
    },
    {
     "data": {
      "text/plain": [
       "\"As an AI language model, I don't have feelings, but I'm functioning properly and ready to assist you with any questions or concerns you may have. How can I help you today?\""
      ]
     },
     "execution_count": 37,
     "metadata": {},
     "output_type": "execute_result"
    }
   ],
   "source": [
    "llm_chain.predict(human_input=\"Not too bad - how are you?\")"
   ]
  },
  {
   "cell_type": "code",
   "execution_count": 38,
   "metadata": {},
   "outputs": [
    {
     "name": "stderr",
     "output_type": "stream",
     "text": [
      "Error in StdOutCallbackHandler.on_chain_start callback: AttributeError(\"'NoneType' object has no attribute 'get'\")\n"
     ]
    },
    {
     "name": "stdout",
     "output_type": "stream",
     "text": [
      "Prompt after formatting:\n",
      "\u001b[32;1m\u001b[1;3mSystem: You are a chatbot having a conversation with a human.\n",
      "Human: Hi there my friend\n",
      "AI: Hello! How can I assist you today?\n",
      "Human: Not too bad - how are you?\n",
      "AI: As an AI language model, I don't have feelings, but I'm functioning properly and ready to assist you with any questions or concerns you may have. How can I help you today?\n",
      "Human: what was my first interaction with you?\u001b[0m\n",
      "\n",
      "\u001b[1m> Finished chain.\u001b[0m\n"
     ]
    },
    {
     "data": {
      "text/plain": [
       "\"I'm sorry, but I don't have the capability to remember previous interactions with individual users, as I am designed to have conversations with multiple users. However, I'm here to help you with any questions or concerns you may have today.\""
      ]
     },
     "execution_count": 38,
     "metadata": {},
     "output_type": "execute_result"
    }
   ],
   "source": [
    "llm_chain.predict(human_input=\"what was my first interaction with you?\")"
   ]
  },
  {
   "cell_type": "markdown",
   "metadata": {},
   "source": [
    "##### Simple Agent"
   ]
  },
  {
   "cell_type": "code",
   "execution_count": 39,
   "metadata": {},
   "outputs": [
    {
     "name": "stdout",
     "output_type": "stream",
     "text": [
      "The latest news about AI in healthcare can be found on Healthcare IT News.\n"
     ]
    }
   ],
   "source": [
    "from langchain.agents import load_tools, initialize_agent, AgentType\n",
    "from langchain.tools import Tool\n",
    "from serpapi import GoogleSearch  \n",
    "\n",
    "# Function for searching using SerpAPI\n",
    "def search_google(query):\n",
    "    params = {\n",
    "        \"q\": query,\n",
    "        \"api_key\": \"enter your api key here\"\n",
    "    }\n",
    "    search = GoogleSearch(params)\n",
    "    results = search.get_dict()\n",
    "    return results['organic_results']\n",
    "\n",
    "# Wrap the search tool in Langchain's Tool interface\n",
    "search_tool = Tool(\n",
    "    name=\"GoogleSearch\",\n",
    "    func=search_google,\n",
    "    description=\"A tool to search the web for information.\",\n",
    "\n",
    ")\n",
    "\n",
    "# Load the tool into Langchain\n",
    "tools = [search_tool]\n",
    "\n",
    "# Initialize the agent with the tool\n",
    "agent = initialize_agent(\n",
    "    tools=tools,\n",
    "    agent_type=AgentType.ZERO_SHOT_REACT_DESCRIPTION,\n",
    "    llm=llm,\n",
    "    \n",
    "    \n",
    ")\n",
    "\n",
    "# Example query to the agent\n",
    "query = \"What is the latest news about AI in healthcare?\"\n",
    "\n",
    "# Run the agent\n",
    "response = agent.run(query)\n",
    "\n",
    "# Output the response\n",
    "print(response)"
   ]
  },
  {
   "cell_type": "markdown",
   "metadata": {},
   "source": []
  }
 ],
 "metadata": {
  "kernelspec": {
   "display_name": "Python (venv)",
   "language": "python",
   "name": "venv"
  },
  "language_info": {
   "codemirror_mode": {
    "name": "ipython",
    "version": 3
   },
   "file_extension": ".py",
   "mimetype": "text/x-python",
   "name": "python",
   "nbconvert_exporter": "python",
   "pygments_lexer": "ipython3",
   "version": "3.11.9"
  }
 },
 "nbformat": 4,
 "nbformat_minor": 2
}
