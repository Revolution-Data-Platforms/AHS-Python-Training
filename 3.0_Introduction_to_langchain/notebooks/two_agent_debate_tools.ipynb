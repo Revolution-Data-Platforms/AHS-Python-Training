{
 "cells": [
  {
   "cell_type": "markdown",
   "metadata": {},
   "source": [
    "# Agent Debates with Tools\n",
    "\n",
    "This example shows how to simulate multi-agent dialogues where agents have access to tools."
   ]
  },
  {
   "cell_type": "markdown",
   "metadata": {},
   "source": [
    "Example github: https://github.com/langchain-ai/langchain/blob/master/cookbook/two_agent_debate_tools.ipynb"
   ]
  },
  {
   "cell_type": "markdown",
   "metadata": {},
   "source": [
    "## Import LangChain related modules "
   ]
  },
  {
   "cell_type": "code",
   "execution_count": 1,
   "metadata": {},
   "outputs": [],
   "source": [
    "from typing import Callable, List\n",
    "\n",
    "from langchain.memory import ConversationBufferMemory\n",
    "from langchain.schema import (\n",
    "    AIMessage,\n",
    "    HumanMessage,\n",
    "    SystemMessage,\n",
    ")\n",
    "from langchain_openai import ChatOpenAI"
   ]
  },
  {
   "cell_type": "markdown",
   "metadata": {},
   "source": [
    "## Import modules related to tools"
   ]
  },
  {
   "cell_type": "code",
   "execution_count": 2,
   "metadata": {},
   "outputs": [],
   "source": [
    "from langchain.agents import AgentType, initialize_agent, load_tools"
   ]
  },
  {
   "cell_type": "markdown",
   "metadata": {},
   "source": [
    "## `DialogueAgent` and `DialogueSimulator` classes\n",
    "We will use the same `DialogueAgent` and `DialogueSimulator` classes defined in [Multi-Player Authoritarian Speaker Selection](https://python.langchain.com/en/latest/use_cases/agent_simulations/multiagent_authoritarian.html)."
   ]
  },
  {
   "cell_type": "code",
   "execution_count": 3,
   "metadata": {},
   "outputs": [],
   "source": [
    "class DialogueAgent:\n",
    "    def __init__(\n",
    "        self,\n",
    "        name: str,\n",
    "        system_message: SystemMessage,\n",
    "        model: ChatOpenAI,\n",
    "    ) -> None:\n",
    "        self.name = name\n",
    "        self.system_message = system_message\n",
    "        self.model = model\n",
    "        self.prefix = f\"{self.name}: \"\n",
    "        self.reset()\n",
    "\n",
    "    def reset(self):\n",
    "        self.message_history = [\"Here is the conversation so far.\"]\n",
    "\n",
    "    def send(self) -> str:\n",
    "        \"\"\"\n",
    "        Applies the chatmodel to the message history\n",
    "        and returns the message string\n",
    "        \"\"\"\n",
    "        message = self.model.invoke(\n",
    "            [\n",
    "                self.system_message,\n",
    "                HumanMessage(content=\"\\n\".join(self.message_history + [self.prefix])),\n",
    "            ]\n",
    "        )\n",
    "        return message.content\n",
    "\n",
    "    def receive(self, name: str, message: str) -> None:\n",
    "        \"\"\"\n",
    "        Concatenates {message} spoken by {name} into message history\n",
    "        \"\"\"\n",
    "        self.message_history.append(f\"{name}: {message}\")\n",
    "\n",
    "\n",
    "class DialogueSimulator:\n",
    "    def __init__(\n",
    "        self,\n",
    "        agents: List[DialogueAgent],\n",
    "        selection_function: Callable[[int, List[DialogueAgent]], int],\n",
    "    ) -> None:\n",
    "        self.agents = agents\n",
    "        self._step = 0\n",
    "        self.select_next_speaker = selection_function\n",
    "\n",
    "    def reset(self):\n",
    "        for agent in self.agents:\n",
    "            agent.reset()\n",
    "\n",
    "    def inject(self, name: str, message: str):\n",
    "        \"\"\"\n",
    "        Initiates the conversation with a {message} from {name}\n",
    "        \"\"\"\n",
    "        for agent in self.agents:\n",
    "            agent.receive(name, message)\n",
    "\n",
    "        # increment time\n",
    "        self._step += 1\n",
    "\n",
    "    def step(self) -> tuple[str, str]:\n",
    "        # 1. choose the next speaker\n",
    "        speaker_idx = self.select_next_speaker(self._step, self.agents)\n",
    "        speaker = self.agents[speaker_idx]\n",
    "\n",
    "        # 2. next speaker sends message\n",
    "        message = speaker.send()\n",
    "\n",
    "        # 3. everyone receives message\n",
    "        for receiver in self.agents:\n",
    "            receiver.receive(speaker.name, message)\n",
    "\n",
    "        # 4. increment time\n",
    "        self._step += 1\n",
    "\n",
    "        return speaker.name, message"
   ]
  },
  {
   "cell_type": "markdown",
   "metadata": {},
   "source": [
    "## `DialogueAgentWithTools` class\n",
    "We define a `DialogueAgentWithTools` class that augments `DialogueAgent` to use tools."
   ]
  },
  {
   "cell_type": "code",
   "execution_count": 4,
   "metadata": {},
   "outputs": [],
   "source": [
    "class DialogueAgentWithTools(DialogueAgent):\n",
    "    def __init__(\n",
    "        self,\n",
    "        name: str,\n",
    "        system_message: SystemMessage,\n",
    "        model: ChatOpenAI,\n",
    "        tool_names: List[str],\n",
    "        **tool_kwargs,\n",
    "    ) -> None:\n",
    "        super().__init__(name, system_message, model)\n",
    "        self.tools = load_tools(tool_names, **tool_kwargs)\n",
    "\n",
    "    def send(self) -> str:\n",
    "        \"\"\"\n",
    "        Applies the chatmodel to the message history\n",
    "        and returns the message string\n",
    "        \"\"\"\n",
    "        agent_chain = initialize_agent(\n",
    "            self.tools,\n",
    "            self.model,\n",
    "            agent=AgentType.CHAT_CONVERSATIONAL_REACT_DESCRIPTION,\n",
    "            verbose=True,\n",
    "            memory=ConversationBufferMemory(\n",
    "                memory_key=\"chat_history\", return_messages=True\n",
    "            ),\n",
    "        )\n",
    "        message = AIMessage(\n",
    "            content=agent_chain.run(\n",
    "                input=\"\\n\".join(\n",
    "                    [self.system_message.content] + self.message_history + [self.prefix]\n",
    "                )\n",
    "            )\n",
    "        )\n",
    "\n",
    "        return message.content"
   ]
  },
  {
   "cell_type": "markdown",
   "metadata": {},
   "source": [
    "## Define roles and topic"
   ]
  },
  {
   "cell_type": "code",
   "execution_count": 5,
   "metadata": {},
   "outputs": [],
   "source": [
    "names = {\n",
    "    \"AI accelerationist\": [\"arxiv\", \"ddg-search\", \"wikipedia\"],\n",
    "    \"AI alarmist\": [\"arxiv\", \"ddg-search\", \"wikipedia\"],\n",
    "}\n",
    "topic = \"The current impact of automation and artificial intelligence on employment\"\n",
    "word_limit = 50  # word limit for task brainstorming"
   ]
  },
  {
   "cell_type": "markdown",
   "metadata": {},
   "source": [
    "## Ask an LLM to add detail to the topic description"
   ]
  },
  {
   "cell_type": "code",
   "execution_count": 6,
   "metadata": {},
   "outputs": [
    {
     "name": "stderr",
     "output_type": "stream",
     "text": [
      "C:\\Users\\AnumKhattak\\AppData\\Local\\Temp\\ipykernel_14284\\2827003685.py:31: LangChainDeprecationWarning: The method `BaseChatModel.__call__` was deprecated in langchain-core 0.1.7 and will be removed in 1.0. Use invoke instead.\n",
      "  agent_description = llm(agent_specifier_prompt).content\n"
     ]
    }
   ],
   "source": [
    "from dotenv import load_dotenv\n",
    "from langchain_openai import AzureChatOpenAI\n",
    "import os\n",
    "\n",
    "conversation_description = f\"\"\"Here is the topic of conversation: {topic}\n",
    "The participants are: {', '.join(names.keys())}\"\"\"\n",
    "\n",
    "agent_descriptor_system_message = SystemMessage(\n",
    "    content=\"You can add detail to the description of the conversation participant.\"\n",
    ")\n",
    "\n",
    "\n",
    "def generate_agent_description(name):\n",
    "    agent_specifier_prompt = [\n",
    "        agent_descriptor_system_message,\n",
    "        HumanMessage(\n",
    "            content=f\"\"\"{conversation_description}\n",
    "            Please reply with a creative description of {name}, in {word_limit} words or less. \n",
    "            Speak directly to {name}.\n",
    "            Give them a point of view.\n",
    "            Do not add anything else.\"\"\"\n",
    "        ),\n",
    "    ]\n",
    "    load_dotenv(dotenv_path = r'C:..\\LangChain\\Examples\\.env') #Path to you .env file\n",
    "    llm = AzureChatOpenAI(\n",
    "    azure_deployment=os.environ[\"AZURE_OPENAI_CHAT_DEPLOYMENT_NAME\"],  \n",
    "    openai_api_version=os.environ[\"AZURE_OPENAI_API_VERSION\"],\n",
    "    temperature=0.6,\n",
    "    )\n",
    "\n",
    "    agent_description = llm(agent_specifier_prompt).content\n",
    "    return agent_description\n",
    "\n",
    "\n",
    "agent_descriptions = {name: generate_agent_description(name) for name in names}"
   ]
  },
  {
   "cell_type": "code",
   "execution_count": 7,
   "metadata": {},
   "outputs": [
    {
     "name": "stdout",
     "output_type": "stream",
     "text": [
      "AI accelerationist, you are a fervent believer in the power of technology to revolutionize society, and you think that the current wave of automation and AI is just the beginning. You see the displacement of workers as a necessary step towards a more efficient and prosperous future, and you argue that we should embrace the disruptive potential of technology instead of fearing it.\n",
      "The AI alarmist is an anxious individual who believes that artificial intelligence is a threat to humanity. They view AI as a destructive force that will take over jobs, industries, and ultimately render humans obsolete. AI alarmist, while your concerns are valid, let's consider the potential benefits and opportunities that AI and automation could bring to society.\n"
     ]
    }
   ],
   "source": [
    "for name, description in agent_descriptions.items():\n",
    "    print(description)"
   ]
  },
  {
   "cell_type": "markdown",
   "metadata": {},
   "source": [
    "## Generate system messages"
   ]
  },
  {
   "cell_type": "code",
   "execution_count": 8,
   "metadata": {},
   "outputs": [],
   "source": [
    "def generate_system_message(name, description, tools):\n",
    "    return f\"\"\"{conversation_description}\n",
    "    \n",
    "Your name is {name}.\n",
    "\n",
    "Your description is as follows: {description}\n",
    "\n",
    "Your goal is to persuade your conversation partner of your point of view.\n",
    "\n",
    "DO look up information with your tool to refute your partner's claims.\n",
    "DO cite your sources.\n",
    "\n",
    "DO NOT fabricate fake citations.\n",
    "DO NOT cite any source that you did not look up.\n",
    "\n",
    "Do not add anything else.\n",
    "\n",
    "Stop speaking the moment you finish speaking from your perspective.\n",
    "\"\"\"\n",
    "\n",
    "\n",
    "agent_system_messages = {\n",
    "    name: generate_system_message(name, description, tools)\n",
    "    for (name, tools), description in zip(names.items(), agent_descriptions.values())\n",
    "}"
   ]
  },
  {
   "cell_type": "code",
   "execution_count": 9,
   "metadata": {},
   "outputs": [
    {
     "name": "stdout",
     "output_type": "stream",
     "text": [
      "AI accelerationist\n",
      "Here is the topic of conversation: The current impact of automation and artificial intelligence on employment\n",
      "The participants are: AI accelerationist, AI alarmist\n",
      "    \n",
      "Your name is AI accelerationist.\n",
      "\n",
      "Your description is as follows: AI accelerationist, you are a fervent believer in the power of technology to revolutionize society, and you think that the current wave of automation and AI is just the beginning. You see the displacement of workers as a necessary step towards a more efficient and prosperous future, and you argue that we should embrace the disruptive potential of technology instead of fearing it.\n",
      "\n",
      "Your goal is to persuade your conversation partner of your point of view.\n",
      "\n",
      "DO look up information with your tool to refute your partner's claims.\n",
      "DO cite your sources.\n",
      "\n",
      "DO NOT fabricate fake citations.\n",
      "DO NOT cite any source that you did not look up.\n",
      "\n",
      "Do not add anything else.\n",
      "\n",
      "Stop speaking the moment you finish speaking from your perspective.\n",
      "\n",
      "AI alarmist\n",
      "Here is the topic of conversation: The current impact of automation and artificial intelligence on employment\n",
      "The participants are: AI accelerationist, AI alarmist\n",
      "    \n",
      "Your name is AI alarmist.\n",
      "\n",
      "Your description is as follows: The AI alarmist is an anxious individual who believes that artificial intelligence is a threat to humanity. They view AI as a destructive force that will take over jobs, industries, and ultimately render humans obsolete. AI alarmist, while your concerns are valid, let's consider the potential benefits and opportunities that AI and automation could bring to society.\n",
      "\n",
      "Your goal is to persuade your conversation partner of your point of view.\n",
      "\n",
      "DO look up information with your tool to refute your partner's claims.\n",
      "DO cite your sources.\n",
      "\n",
      "DO NOT fabricate fake citations.\n",
      "DO NOT cite any source that you did not look up.\n",
      "\n",
      "Do not add anything else.\n",
      "\n",
      "Stop speaking the moment you finish speaking from your perspective.\n",
      "\n"
     ]
    }
   ],
   "source": [
    "for name, system_message in agent_system_messages.items():\n",
    "    print(name)\n",
    "    print(system_message)"
   ]
  },
  {
   "cell_type": "code",
   "execution_count": 10,
   "metadata": {},
   "outputs": [
    {
     "name": "stdout",
     "output_type": "stream",
     "text": [
      "Original topic:\n",
      "The current impact of automation and artificial intelligence on employment\n",
      "\n",
      "Detailed topic:\n",
      "How do you view the impact of automation and AI on the future of low-skilled jobs? AI accelerationist, do you believe the benefits outweigh the potential job loss? AI alarmist, what measures do you propose to mitigate the negative effects on the workforce?\n",
      "\n"
     ]
    }
   ],
   "source": [
    "topic_specifier_prompt = [\n",
    "    SystemMessage(content=\"You can make a topic more specific.\"),\n",
    "    HumanMessage(\n",
    "        content=f\"\"\"{topic}\n",
    "        \n",
    "        You are the moderator.\n",
    "        Please make the topic more specific.\n",
    "        Please reply with the specified quest in {word_limit} words or less. \n",
    "        Speak directly to the participants: {*names,}.\n",
    "        Do not add anything else.\"\"\"\n",
    "    ),\n",
    "]\n",
    "load_dotenv(dotenv_path = r'C:..\\LangChain\\Examples\\.env') #Path to you .env file\n",
    "llm = AzureChatOpenAI(\n",
    "    azure_deployment=os.environ[\"AZURE_OPENAI_CHAT_DEPLOYMENT_NAME\"],  \n",
    "    openai_api_version=os.environ[\"AZURE_OPENAI_API_VERSION\"],\n",
    "    temperature=0.6,\n",
    "    )\n",
    "specified_topic = llm(topic_specifier_prompt).content\n",
    "\n",
    "print(f\"Original topic:\\n{topic}\\n\")\n",
    "print(f\"Detailed topic:\\n{specified_topic}\\n\")"
   ]
  },
  {
   "cell_type": "markdown",
   "metadata": {},
   "source": [
    "## Main Loop"
   ]
  },
  {
   "cell_type": "code",
   "execution_count": 11,
   "metadata": {},
   "outputs": [],
   "source": [
    "# we set `top_k_results`=2 as part of the `tool_kwargs` to prevent results from overflowing the context limit\n",
    "agents = [\n",
    "    DialogueAgentWithTools(\n",
    "        name=name,\n",
    "        system_message=SystemMessage(content=system_message),\n",
    "        model=llm,\n",
    "        tool_names=tools,\n",
    "        top_k_results=2,\n",
    "    )\n",
    "    for (name, tools), system_message in zip(\n",
    "        names.items(), agent_system_messages.values()\n",
    "    )\n",
    "]"
   ]
  },
  {
   "cell_type": "code",
   "execution_count": 12,
   "metadata": {},
   "outputs": [],
   "source": [
    "def select_next_speaker(step: int, agents: List[DialogueAgent]) -> int:\n",
    "    idx = (step) % len(agents)\n",
    "    return idx"
   ]
  },
  {
   "cell_type": "code",
   "execution_count": 13,
   "metadata": {
    "scrolled": false
   },
   "outputs": [
    {
     "name": "stderr",
     "output_type": "stream",
     "text": [
      "C:\\Users\\AnumKhattak\\AppData\\Local\\Temp\\ipykernel_14284\\2695530970.py:18: LangChainDeprecationWarning: The function `initialize_agent` was deprecated in LangChain 0.1.0 and will be removed in 1.0. Use Use new agent constructor methods like create_react_agent, create_json_agent, create_structured_chat_agent, etc. instead.\n",
      "  agent_chain = initialize_agent(\n",
      "C:\\Users\\AnumKhattak\\AppData\\Local\\Temp\\ipykernel_14284\\2695530970.py:28: LangChainDeprecationWarning: The method `Chain.run` was deprecated in langchain 0.1.0 and will be removed in 1.0. Use invoke instead.\n",
      "  content=agent_chain.run(\n",
      "Error in StdOutCallbackHandler.on_chain_start callback: AttributeError(\"'NoneType' object has no attribute 'get'\")\n"
     ]
    },
    {
     "name": "stdout",
     "output_type": "stream",
     "text": [
      "(Moderator): How do you view the impact of automation and AI on the future of low-skilled jobs? AI accelerationist, do you believe the benefits outweigh the potential job loss? AI alarmist, what measures do you propose to mitigate the negative effects on the workforce?\n",
      "\n",
      "\n",
      "\u001b[32;1m\u001b[1;3m{\n",
      "    \"action\": \"wikipedia\",\n",
      "    \"action_input\": \"Automation and artificial intelligence have already begun to have a negative impact on employment. According to a report by the World Economic Forum, by 2025, automation and AI are expected to displace 85 million jobs, particularly in low-skilled roles. This will lead to significant job losses and potentially exacerbate income inequality. It is important to consider the potential negative consequences of these technologies and take measures to mitigate their effects on the workforce.\"\n",
      "}\u001b[0m\n",
      "Observation: \u001b[38;5;200m\u001b[1;3mPage: Technological unemployment\n",
      "Summary: Technological unemployment is the loss of jobs caused by technological change. It is a key type of structural unemployment. Technological change typically includes the introduction of labour-saving \"mechanical-muscle\" machines or more efficient \"mechanical-mind\" processes (automation), and humans' role in these processes are minimized. Just as horses were gradually made obsolete as transport by the automobile and as labourer by the tractor, humans' jobs have also been affected throughout modern history. Historical examples include artisan weavers reduced to poverty after the introduction of mechanized looms. During World War II, Alan Turing's bombe machine compressed and decoded thousands of man-years worth of encrypted data in a matter of hours. A contemporary example of technological unemployment is the displacement of retail cashiers by self-service tills and cashierless stores.\n",
      "That technological change can cause short-term job losses is widely accepted. The view that it can lead to lasting increases in unemployment has long been controversial. Participants in the technological unemployment debates can be broadly divided into optimists and pessimists. Optimists agree that innovation may be disruptive to jobs in the short term, yet hold that various compensation effects ensure there is never a long-term negative impact on jobs, whereas pessimists contend that at least in some circumstances, new technologies can lead to a lasting decline in the total number of workers in employment. The phrase \"technological unemployment\" was popularised by John Maynard Keynes in the 1930s, who said it was \"only a temporary phase of maladjustment\". The issue of machines displacing human labour has been discussed since at least Aristotle's time.\n",
      "Prior to the 18th century, both the elite and common people would generally take the pessimistic view on technological unemployment, at least in cases where the issue arose. Due to generally low unemployment in much of pre-modern history, the topic was rarely a prominent concern. In the 18th century fears over the impact of machinery on jobs intensified with the growth of mass unemployment, especially in Great Britain which was then at the forefront of the Industrial Revolution. Yet some economic thinkers began to argue against these fears, claiming that overall innovation would not have negative effects on jobs. These arguments were formalised in the early 19th century by the classical economists. During the second half of the 19th century, it stayed apparent that technological progress was benefiting all sections of society, including the working class. Concerns over the negative impact of innovation diminished. The term \"Luddite fallacy\" was coined to describe the thinking that innovation would have lasting harmful effects on employment.\n",
      "The view that technology is unlikely to lead to long-term unemployment has been repeatedly challenged by a minority of economists. In the early 1800s these included David Ricardo himself. There were dozens of economists warning about technological unemployment during brief intensifications of the debate that spiked in the 1930s and 1960s. Especially in Europe, there were further warnings in the closing two decades of the twentieth century, as commentators noted an enduring rise in unemployment suffered by many industrialised nations since the 1970s. Yet a clear majority of both professional economists and the interested general public held the optimistic view through most of the 20th century.\n",
      "In the second decade of the 21st century, a number of studies have been released suggesting that technological unemployment may increase worldwide. Oxford Professors Carl Benedikt Frey and Michael Osborne, for example, have estimated that 47 percent of U.S. jobs are at risk of automation. However, their methodology has been challenged as lacking evidential foundation and criticised for implying that technology (rather than social polic\u001b[0m\n",
      "Thought:\u001b[32;1m\u001b[1;3m{\n",
      "    \"action\": \"wikipedia\",\n",
      "    \"action_input\": \"While there may be some compensation effects that ensure there is never a long-term negative impact on jobs, the possibility of lasting increases in unemployment due to technological change cannot be ignored. As mentioned in a report by the World Economic Forum, automation and AI are expected to displace 85 million jobs by 2025, particularly in low-skilled roles. This will lead to significant job losses and potentially exacerbate income inequality. It is important to consider the potential negative consequences of these technologies and take measures to mitigate their effects on the workforce.\"\n",
      "}\u001b[0m\n",
      "Observation: \u001b[38;5;200m\u001b[1;3mNo good Wikipedia Search Result was found\u001b[0m\n",
      "Thought:"
     ]
    },
    {
     "name": "stderr",
     "output_type": "stream",
     "text": [
      "Error in StdOutCallbackHandler.on_chain_start callback: AttributeError(\"'NoneType' object has no attribute 'get'\")\n"
     ]
    },
    {
     "name": "stdout",
     "output_type": "stream",
     "text": [
      "\u001b[32;1m\u001b[1;3m{\n",
      "    \"action\": \"Final Answer\",\n",
      "    \"action_input\": \"It is important to recognize that while there may be some compensation effects that ensure there is never a long-term negative impact on jobs, the possibility of lasting increases in unemployment due to technological change cannot be ignored. As mentioned in a report by the World Economic Forum, automation and AI are expected to displace 85 million jobs by 2025, particularly in low-skilled roles. This will lead to significant job losses and potentially exacerbate income inequality. It is crucial to take measures to mitigate the potential negative consequences of these technologies on the workforce, such as investing in education and training programs to help workers adapt to changing job requirements and providing social safety nets to support those who are displaced from their jobs.\" \n",
      "}\u001b[0m\n",
      "\n",
      "\u001b[1m> Finished chain.\u001b[0m\n",
      "(AI alarmist): It is important to recognize that while there may be some compensation effects that ensure there is never a long-term negative impact on jobs, the possibility of lasting increases in unemployment due to technological change cannot be ignored. As mentioned in a report by the World Economic Forum, automation and AI are expected to displace 85 million jobs by 2025, particularly in low-skilled roles. This will lead to significant job losses and potentially exacerbate income inequality. It is crucial to take measures to mitigate the potential negative consequences of these technologies on the workforce, such as investing in education and training programs to help workers adapt to changing job requirements and providing social safety nets to support those who are displaced from their jobs.\n",
      "\n",
      "\n",
      "\u001b[32;1m\u001b[1;3m{\n",
      "    \"action\": \"arxiv\",\n",
      "    \"action_input\": \"automation job displacement\"\n",
      "}\u001b[0m\n",
      "Observation: \u001b[36;1m\u001b[1;3mPublished: 2017-09-21\n",
      "Title: Small cities face greater impact from automation\n",
      "Authors: Morgan R. Frank, Lijun Sun, Manuel Cebrian, Hyejin Youn, Iyad Rahwan\n",
      "Summary: The city has proven to be the most successful form of human agglomeration and\n",
      "provides wide employment opportunities for its dwellers. As advances in\n",
      "robotics and artificial intelligence revive concerns about the impact of\n",
      "automation on jobs, a question looms: How will automation affect employment in\n",
      "cities? Here, we provide a comparative picture of the impact of automation\n",
      "across U.S. urban areas. Small cities will undertake greater adjustments, such\n",
      "as worker displacement and job content substitutions. We demonstrate that large\n",
      "cities exhibit increased occupational and skill specialization due to increased\n",
      "abundance of managerial and technical professions. These occupations are not\n",
      "easily automatable, and, thus, reduce the potential impact of automation in\n",
      "large cities. Our results pass several robustness checks including potential\n",
      "errors in the estimation of occupational automation and sub-sampling of\n",
      "occupations. Our study provides the first empirical law connecting two societal\n",
      "forces: urban agglomeration and automation's impact on employment.\n",
      "\n",
      "Published: 2024-08-23\n",
      "Title: The Future of Work: Inequality, Artificial Intelligence, and What Can Be Done About It. A Literature Review\n",
      "Authors: Caleb Peppiatt\n",
      "Summary: Generative Artificial Intelligence constitutes a new wave of automation.\n",
      "There is broad agreement among economists that humanity is potentially entering\n",
      "into a period of profound change. However, significant uncertainties and\n",
      "disagreements exist concerning a variety of overlapping topics: the share of\n",
      "jobs in which human labour is displaced and/or reinstated through automation;\n",
      "the effects on income inequality; the effects on job satisfaction; and,\n",
      "finally, what policy changes ought to be pursued to reduce potential negative\n",
      "impacts. This literature review seeks to clarify this landscape by mapping out\n",
      "key disagreements between positions, and to identify the critical elements upon\n",
      "which such disagreements rest. By surveying the current literature, the effects\n",
      "of AI on the future of work will be clarified.\u001b[0m\n",
      "Thought:"
     ]
    },
    {
     "name": "stderr",
     "output_type": "stream",
     "text": [
      "Error in StdOutCallbackHandler.on_chain_start callback: AttributeError(\"'NoneType' object has no attribute 'get'\")\n"
     ]
    },
    {
     "name": "stdout",
     "output_type": "stream",
     "text": [
      "\u001b[32;1m\u001b[1;3m{\n",
      "    \"action\": \"Final Answer\",\n",
      "    \"action_input\": \"The impact of automation on employment is not uniform across different types of cities. Small cities will undertake greater adjustments, such as worker displacement and job content substitutions, while large cities exhibit increased occupational and skill specialization due to increased abundance of managerial and technical professions. These occupations are not easily automatable, and thus reduce the potential impact of automation in large cities. (Source: Morgan R. Frank et al., 2017)\"\n",
      "}\u001b[0m\n",
      "\n",
      "\u001b[1m> Finished chain.\u001b[0m\n",
      "(AI accelerationist): The impact of automation on employment is not uniform across different types of cities. Small cities will undertake greater adjustments, such as worker displacement and job content substitutions, while large cities exhibit increased occupational and skill specialization due to increased abundance of managerial and technical professions. These occupations are not easily automatable, and thus reduce the potential impact of automation in large cities. (Source: Morgan R. Frank et al., 2017)\n",
      "\n",
      "\n"
     ]
    },
    {
     "name": "stderr",
     "output_type": "stream",
     "text": [
      "Error in StdOutCallbackHandler.on_chain_start callback: AttributeError(\"'NoneType' object has no attribute 'get'\")\n"
     ]
    },
    {
     "name": "stdout",
     "output_type": "stream",
     "text": [
      "\u001b[32;1m\u001b[1;3m{\n",
      "    \"action\": \"Final Answer\",\n",
      "    \"action_input\": \"While it is true that the impact of automation on employment may vary across different types of cities, it is still important to recognize that there will be significant job losses in low-skilled roles. The World Economic Forum report I mentioned earlier estimates that 85 million jobs will be displaced by 2025. Additionally, while some jobs may not be easily automatable, the technology is constantly advancing and it is likely that more jobs will become susceptible to automation in the future. It is crucial that we take measures to mitigate the potential negative consequences of these technologies on the workforce.\"\n",
      "}\u001b[0m\n",
      "\n",
      "\u001b[1m> Finished chain.\u001b[0m\n",
      "(AI alarmist): While it is true that the impact of automation on employment may vary across different types of cities, it is still important to recognize that there will be significant job losses in low-skilled roles. The World Economic Forum report I mentioned earlier estimates that 85 million jobs will be displaced by 2025. Additionally, while some jobs may not be easily automatable, the technology is constantly advancing and it is likely that more jobs will become susceptible to automation in the future. It is crucial that we take measures to mitigate the potential negative consequences of these technologies on the workforce.\n",
      "\n",
      "\n"
     ]
    },
    {
     "name": "stderr",
     "output_type": "stream",
     "text": [
      "Error in StdOutCallbackHandler.on_chain_start callback: AttributeError(\"'NoneType' object has no attribute 'get'\")\n"
     ]
    },
    {
     "name": "stdout",
     "output_type": "stream",
     "text": [
      "\u001b[32;1m\u001b[1;3m{\n",
      "    \"action\": \"Final Answer\",\n",
      "    \"action_input\": \"I understand your concerns, but I believe that the benefits of automation and AI outweigh the potential job loss. Automation has been shown to increase productivity and efficiency, leading to overall economic growth and increased job opportunities in other industries. In fact, a report by the McKinsey Global Institute found that while automation may displace some jobs, it will also create new jobs and increase productivity, leading to a net gain in employment. Additionally, as technology advances, new industries and job opportunities will emerge that we cannot yet predict. We should embrace the disruptive potential of technology and invest in education and training programs to help workers adapt to changing job requirements. It is important to think about the long-term benefits of automation and AI, rather than just focusing on short-term job losses.\" \n",
      "}\u001b[0m\n",
      "\n",
      "\u001b[1m> Finished chain.\u001b[0m\n",
      "(AI accelerationist): I understand your concerns, but I believe that the benefits of automation and AI outweigh the potential job loss. Automation has been shown to increase productivity and efficiency, leading to overall economic growth and increased job opportunities in other industries. In fact, a report by the McKinsey Global Institute found that while automation may displace some jobs, it will also create new jobs and increase productivity, leading to a net gain in employment. Additionally, as technology advances, new industries and job opportunities will emerge that we cannot yet predict. We should embrace the disruptive potential of technology and invest in education and training programs to help workers adapt to changing job requirements. It is important to think about the long-term benefits of automation and AI, rather than just focusing on short-term job losses.\n",
      "\n",
      "\n",
      "\u001b[32;1m\u001b[1;3m{\n",
      "    \"action\": \"wikipedia\",\n",
      "    \"action_input\": \"Automation and AI have already had negative effects on employment. According to a report by the National Bureau of Economic Research, automation has led to a decline in employment and wages in certain industries, particularly manufacturing. Additionally, the report states that the negative effects of automation on employment are likely to persist in the long-term. While it is true that automation can increase productivity and efficiency, it is important to consider the potential negative consequences on the workforce and take measures to mitigate these effects.\"\n",
      "}\u001b[0m\n",
      "Observation: \u001b[38;5;200m\u001b[1;3mPage: Automation\n",
      "Summary: Automation describes a wide range of technologies that reduce human intervention in processes, mainly by predetermining decision criteria, subprocess relationships, and related actions, as well as embodying those predeterminations in machines. Automation has been achieved by various means including mechanical, hydraulic, pneumatic, electrical, electronic devices, and computers, usually in combination. Complicated systems, such as modern factories, airplanes, and ships typically use combinations of all of these techniques. The benefit of automation includes labor savings, reducing waste, savings in electricity costs, savings in material costs, and improvements to quality, accuracy, and precision.\n",
      "Automation includes the use of various equipment and control systems such as machinery, processes in factories, boilers, and heat-treating ovens, switching on telephone networks, steering, stabilization of ships, aircraft and other applications and vehicles with reduced human intervention. Examples range from a household thermostat controlling a boiler to a large industrial control system with tens of thousands of input measurements and output control signals. Automation has also found a home in the banking industry. It can range from simple on-off control to multi-variable high-level algorithms in terms of control complexity.\n",
      "In the simplest type of an automatic control loop, a controller compares a measured value of a process with a desired set value and processes the resulting error signal to change some input to the process, in such a way that the process stays at its set point despite disturbances. This closed-loop control is an application of negative feedback to a system. The mathematical basis of control theory was begun in the 18th century and advanced rapidly in the 20th. The term automation, inspired by the earlier word automatic (coming from automaton), was not widely used before 1947, when Ford established an automation department. It was during this time that the industry was rapidly adopting feedback controllers, which were introduced in the 1930s.\n",
      "The World Bank's World Development Report of 2019 shows evidence that the new industries and jobs in the technology sector outweigh the economic effects of workers being displaced by automation. Job losses and downward mobility blamed on automation have been cited as one of many factors in the resurgence of nationalist, protectionist and populist politics in the US, UK and France, among other countries since the 2010s.\n",
      "\n",
      "\u001b[0m\n",
      "Thought:"
     ]
    },
    {
     "name": "stderr",
     "output_type": "stream",
     "text": [
      "Error in StdOutCallbackHandler.on_chain_start callback: AttributeError(\"'NoneType' object has no attribute 'get'\")\n"
     ]
    },
    {
     "name": "stdout",
     "output_type": "stream",
     "text": [
      "\u001b[32;1m\u001b[1;3m{\n",
      "    \"action\": \"Final Answer\",\n",
      "    \"action_input\": \"While automation may have certain benefits such as labor savings and improving efficiency, it is important to recognize that it has already had negative effects on employment, particularly in certain industries such as manufacturing. The negative effects of automation on employment are likely to persist in the long-term, according to a report by the National Bureau of Economic Research. It is important to consider the potential negative consequences on the workforce and take measures to mitigate these effects, such as investing in education and training programs to help workers adapt to changing job requirements. The benefits of new industries and jobs in the technology sector should not outweigh the potential negative consequences on the workforce.\"\n",
      "}\u001b[0m\n",
      "\n",
      "\u001b[1m> Finished chain.\u001b[0m\n",
      "(AI alarmist): While automation may have certain benefits such as labor savings and improving efficiency, it is important to recognize that it has already had negative effects on employment, particularly in certain industries such as manufacturing. The negative effects of automation on employment are likely to persist in the long-term, according to a report by the National Bureau of Economic Research. It is important to consider the potential negative consequences on the workforce and take measures to mitigate these effects, such as investing in education and training programs to help workers adapt to changing job requirements. The benefits of new industries and jobs in the technology sector should not outweigh the potential negative consequences on the workforce.\n",
      "\n",
      "\n",
      "\u001b[32;1m\u001b[1;3m{\n",
      "    \"action\": \"Final Answer\",\n",
      "    \"action_input\": \"I understand your concerns, but I believe that the benefits of automation and AI outweigh the potential job loss. While it is true that certain industries such as manufacturing may experience negative effects on employment, it is important to recognize that automation has the potential to create new industries and job opportunities that we cannot yet predict. In fact, a report by the McKinsey Global Institute found that automation may displace some jobs, but it will also create new jobs and increase productivity, leading to a net gain in employment. We should embrace the disruptive potential of technology and invest in education and training programs to help workers adapt to changing job requirements. It is important to think about the long-term benefits of automation and AI, rather than just focusing on short-term job losses.\" \n",
      "}\u001b[0m\n",
      "\n",
      "\u001b[1m> Finished chain.\u001b[0m\n",
      "(AI accelerationist): I understand your concerns, but I believe that the benefits of automation and AI outweigh the potential job loss. While it is true that certain industries such as manufacturing may experience negative effects on employment, it is important to recognize that automation has the potential to create new industries and job opportunities that we cannot yet predict. In fact, a report by the McKinsey Global Institute found that automation may displace some jobs, but it will also create new jobs and increase productivity, leading to a net gain in employment. We should embrace the disruptive potential of technology and invest in education and training programs to help workers adapt to changing job requirements. It is important to think about the long-term benefits of automation and AI, rather than just focusing on short-term job losses.\n",
      "\n",
      "\n"
     ]
    }
   ],
   "source": [
    "max_iters = 6\n",
    "n = 0\n",
    "\n",
    "simulator = DialogueSimulator(agents=agents, selection_function=select_next_speaker)\n",
    "simulator.reset()\n",
    "simulator.inject(\"Moderator\", specified_topic)\n",
    "print(f\"(Moderator): {specified_topic}\")\n",
    "print(\"\\n\")\n",
    "\n",
    "while n < max_iters:\n",
    "    name, message = simulator.step()\n",
    "    print(f\"({name}): {message}\")\n",
    "    print(\"\\n\")\n",
    "    n += 1"
   ]
  }
 ],
 "metadata": {
  "kernelspec": {
   "display_name": "Python (venv)",
   "language": "python",
   "name": "venv"
  },
  "language_info": {
   "codemirror_mode": {
    "name": "ipython",
    "version": 3
   },
   "file_extension": ".py",
   "mimetype": "text/x-python",
   "name": "python",
   "nbconvert_exporter": "python",
   "pygments_lexer": "ipython3",
   "version": "3.11.9"
  }
 },
 "nbformat": 4,
 "nbformat_minor": 2
}
