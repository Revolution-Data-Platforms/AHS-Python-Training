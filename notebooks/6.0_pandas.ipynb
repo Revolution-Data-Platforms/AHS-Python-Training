{
 "cells": [
  {
   "attachments": {},
   "cell_type": "markdown",
   "metadata": {},
   "source": [
    "# Pandas\n"
   ]
  },
  {
   "attachments": {},
   "cell_type": "markdown",
   "metadata": {},
   "source": [
    "`pandas` is a popular open-source data analysis and manipulation library for the Python programming language. It is built on top of the NumPy library and provides easy-to-use data structures and data analysis tools for efficient data manipulation and analysis.\n",
    "\n",
    "In this tutorial, we will cover the basic functionality of the pandas package including data structures, data selection and manipulation, and data analysis tools.\n"
   ]
  },
  {
   "attachments": {},
   "cell_type": "markdown",
   "metadata": {},
   "source": [
    "## Installation\n"
   ]
  },
  {
   "attachments": {},
   "cell_type": "markdown",
   "metadata": {},
   "source": [
    "First, you need to install the `pandas` package in your Python environment. You can install `pandas` using the following command in your terminal or command prompt:\n",
    "\n",
    "```bash\n",
    "pip install pandas\n",
    "```\n"
   ]
  },
  {
   "attachments": {},
   "cell_type": "markdown",
   "metadata": {},
   "source": [
    "## Importing the pandas Package\n"
   ]
  },
  {
   "attachments": {},
   "cell_type": "markdown",
   "metadata": {},
   "source": [
    "To import the `pandas` package in your current Python session, use the following command:\n"
   ]
  },
  {
   "cell_type": "code",
   "execution_count": null,
   "metadata": {},
   "outputs": [],
   "source": [
    "import pandas as pd\n"
   ]
  },
  {
   "attachments": {},
   "cell_type": "markdown",
   "metadata": {},
   "source": [
    "Here, we have imported the `pandas` package and assigned it the alias `pd`. This is a common practice in the Python community. You can use any alias you want, but it is recommended to use the alias `pd` for the `pandas` package. This is the standard convention and will be used in remainder of this tutorial.\n"
   ]
  },
  {
   "attachments": {},
   "cell_type": "markdown",
   "metadata": {},
   "source": [
    "## Data Structures\n"
   ]
  },
  {
   "attachments": {},
   "cell_type": "markdown",
   "metadata": {},
   "source": [
    "`pandas` provides two primary data structures: `Series` and `DataFrame`. A `Series` is a one-dimensional labeled array that can hold any data type, while a `DataFrame` is a two-dimensional labeled data structure with columns of potentially different data types.\n"
   ]
  },
  {
   "attachments": {},
   "cell_type": "markdown",
   "metadata": {},
   "source": [
    "### Series\n"
   ]
  },
  {
   "attachments": {},
   "cell_type": "markdown",
   "metadata": {},
   "source": [
    "A `Series` can be created using the `pd.Series()` function. The following example creates a `Series` object from a list:\n"
   ]
  },
  {
   "cell_type": "code",
   "execution_count": null,
   "metadata": {},
   "outputs": [],
   "source": [
    "import pandas as pd\n",
    "\n",
    "data = [1, 2, 3, 4, 5]\n",
    "s = pd.Series(data)\n",
    "\n",
    "print(s)\n"
   ]
  },
  {
   "attachments": {},
   "cell_type": "markdown",
   "metadata": {},
   "source": [
    "In the above code, we first imported pandas and created a list `data` containing some numbers. Then, we created a Series `s` using the `pd.Series()` function and passed the data list to it. Finally, we printed the `Series` to the console.\n"
   ]
  },
  {
   "attachments": {},
   "cell_type": "markdown",
   "metadata": {},
   "source": [
    "### DataFrame\n"
   ]
  },
  {
   "attachments": {},
   "cell_type": "markdown",
   "metadata": {},
   "source": [
    "A DataFrame can be created using the `pd.DataFrame()` function. The following example creates a DataFrame object from a dictionary:\n"
   ]
  },
  {
   "cell_type": "code",
   "execution_count": null,
   "metadata": {},
   "outputs": [],
   "source": [
    "import pandas as pd\n",
    "\n",
    "data = {\n",
    "    \"name\": [\"John\", \"Charlotte\", \"David\", \"Alice\"],\n",
    "    \"age\": [20, 21, 19, 18],\n",
    "    \"country\": [\"USA\", \"UK\", \"Canada\", \"France\"],\n",
    "}\n",
    "\n",
    "df = pd.DataFrame(data)\n",
    "\n",
    "print(df)\n"
   ]
  },
  {
   "attachments": {},
   "cell_type": "markdown",
   "metadata": {},
   "source": [
    "In the above code, we created a dictionary `data` containing three keys `\"name\"`, `\"age\"`, and `\"country\"` and their respective values. Then, we created a `DataFrame` df using the `pd.DataFrame()` function and passed the `data` dictionary to it. Finally, we printed the `DataFrame` to the console.\n"
   ]
  },
  {
   "attachments": {},
   "cell_type": "markdown",
   "metadata": {},
   "source": [
    "## Data Selection and Manipulation\n"
   ]
  },
  {
   "attachments": {},
   "cell_type": "markdown",
   "metadata": {},
   "source": [
    "Pandas provides powerful tools for data selection a manipulation. In this section, we will cover some of the most commonly used tools. For a complete list of tools, refer to the official pandas documentation.\n"
   ]
  },
  {
   "attachments": {},
   "cell_type": "markdown",
   "metadata": {},
   "source": [
    "### Selecting Columns\n"
   ]
  },
  {
   "attachments": {},
   "cell_type": "markdown",
   "metadata": {},
   "source": [
    "You can select one or more columns from a DataFrame by using square selection brackets `[]` with the column name(s). For example:\n"
   ]
  },
  {
   "cell_type": "code",
   "execution_count": null,
   "metadata": {},
   "outputs": [],
   "source": [
    "import pandas as pd\n",
    "\n",
    "data = {\n",
    "    \"name\": [\"John\", \"Charlotte\", \"David\", \"Alice\"],\n",
    "    \"age\": [20, 21, 19, 18],\n",
    "    \"country\": [\"USA\", \"UK\", \"Canada\", \"France\"],\n",
    "}\n",
    "\n",
    "df = pd.DataFrame(data)\n"
   ]
  },
  {
   "cell_type": "code",
   "execution_count": null,
   "metadata": {},
   "outputs": [],
   "source": [
    "# Selecting a single column\n",
    "print(df[\"name\"])\n"
   ]
  },
  {
   "cell_type": "code",
   "execution_count": null,
   "metadata": {},
   "outputs": [],
   "source": [
    "# Selecting multiple columns\n",
    "print(df[[\"name\", \"age\"]])\n"
   ]
  },
  {
   "attachments": {},
   "cell_type": "markdown",
   "metadata": {},
   "source": [
    "Note the usage of double square brackets `[[...]]` to select multiple columns. This is because we are inputting a list of column names inside the selection brackets `[]`. Therefore, if you use a single square bracket to pass multiple column names `[...]`, you will get an error. Notice that the output of `df[...]` is a `Series` object, while the output of `df[[...]]` is a `DataFrame` object.\n"
   ]
  },
  {
   "attachments": {},
   "cell_type": "markdown",
   "metadata": {},
   "source": [
    "You can alternatively use a more object oriented method to select columns using dot (`.`) notation. For example:\n"
   ]
  },
  {
   "cell_type": "code",
   "execution_count": null,
   "metadata": {},
   "outputs": [],
   "source": [
    "import pandas as pd\n",
    "\n",
    "data = {\n",
    "    \"name\": [\"John\", \"Charlotte\", \"David\", \"Alice\"],\n",
    "    \"age\": [20, 21, 19, 18],\n",
    "    \"country\": [\"USA\", \"UK\", \"Canada\", \"France\"],\n",
    "}\n",
    "\n",
    "df = pd.DataFrame(data)\n",
    "\n",
    "# Selecting a single column\n",
    "print(df.name)\n"
   ]
  },
  {
   "attachments": {},
   "cell_type": "markdown",
   "metadata": {},
   "source": [
    "However, this method has caveats. For example, it can cause problems when column names contain spaces or special characters. For example, if you have a column named `\"first name\"`, you cannot use `.` notation to select it. You will have to use selection brackets `[]` instead. Also note that `.` notation is not designed for selecting multiple columns. Selecting columns through `.` notation is arguably less readable and powerful than using selection brackets `[]`. Therefore, it is recommended for most use cases to use selection brackets `[]` for selecting columns.\n"
   ]
  },
  {
   "attachments": {},
   "cell_type": "markdown",
   "metadata": {},
   "source": [
    "## Further Reading\n"
   ]
  },
  {
   "attachments": {},
   "cell_type": "markdown",
   "metadata": {},
   "source": [
    "Check out the following resources for more information on the `pandas` library:\n",
    "\n",
    "- [Official pandas documentation](https://pandas.pydata.org/pandas-docs/stable/index.html)\n",
    "- [pandas Cheat Sheet](https://pandas.pydata.org/Pandas_Cheat_Sheet.pdf)\n",
    "- [pandas Cookbook](https://pandas.pydata.org/pandas-docs/stable/user_guide/cookbook.html)\n",
    "\n",
    "Tutorials:\n",
    "\n",
    "- [W3Schools](https://www.w3schools.com/python/pandas/default.asp)\n",
    "- [DataCamp](https://www.datacamp.com/community/tutorials/pandas-tutorial-dataframe-python)\n",
    "- [Real Python](https://realpython.com/pandas-python-explore-dataset/)\n",
    "- [Python Data Science Handbook](https://jakevdp.github.io/PythonDataScienceHandbook/03.00-introduction-to-pandas.html)\n",
    "- [kaggle](https://www.kaggle.com/learn/pandas)\n"
   ]
  }
 ],
 "metadata": {
  "kernelspec": {
   "display_name": "Python 3",
   "language": "python",
   "name": "python3"
  },
  "language_info": {
   "codemirror_mode": {
    "name": "ipython",
    "version": 3
   },
   "file_extension": ".py",
   "mimetype": "text/x-python",
   "name": "python",
   "nbconvert_exporter": "python",
   "pygments_lexer": "ipython3",
   "version": "3.10.6"
  },
  "orig_nbformat": 4,
  "vscode": {
   "interpreter": {
    "hash": "31f2aee4e71d21fbe5cf8b01ff0e069b9275f58929596ceb00d14d90e3e16cd6"
   }
  }
 },
 "nbformat": 4,
 "nbformat_minor": 2
}
