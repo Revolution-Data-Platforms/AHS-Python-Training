{
  "cells": [
    {
      "attachments": {},
      "cell_type": "markdown",
      "metadata": {
        "id": "QHXxGQbFNb9s"
      },
      "source": [
        "# Variables and Datatypes"
      ]
    },
    {
      "cell_type": "markdown",
      "metadata": {
        "id": "Uxwn3cz6NViL"
      },
      "source": [
        "Variables in Python are used to store values. A variable is created by assigning a value to a name, using the assignment operator (=). For example:"
      ]
    },
    {
      "cell_type": "code",
      "execution_count": 1,
      "metadata": {
        "id": "ZsBgckcwJ0KF"
      },
      "outputs": [],
      "source": [
        "x = 5\n",
        "y = \"Hello, World!\""
      ]
    },
    {
      "attachments": {},
      "cell_type": "markdown",
      "metadata": {
        "id": "AmQeNxczOFz6"
      },
      "source": [
        "In the above example, the variable `x` is assigned the value `5`, and the variable `y` is assigned the value `\"Hello, World!\"`. We can display these values in the terminal using the `print()` function."
      ]
    },
    {
      "cell_type": "code",
      "execution_count": 2,
      "metadata": {},
      "outputs": [
        {
          "name": "stdout",
          "output_type": "stream",
          "text": [
            "5\n",
            "Hello, World!\n"
          ]
        }
      ],
      "source": [
        "print(x)\n",
        "print(y)"
      ]
    },
    {
      "attachments": {},
      "cell_type": "markdown",
      "metadata": {
        "id": "65XJIZEmOdbJ"
      },
      "source": [
        "There are several data types in Python, including:\n",
        "\n",
        "- Integers (`int`) - Whole numbers, such as `1`, `2`, and `3`.\n",
        "- Floating-point numbers (`float`) - Numbers with decimal points, such as `2.5`, `3.14` or even `1.`.\n",
        "- Strings (`str`) - A sequence of characters, such as `\"Hello, World!\"` or `\"Hello, Python!\"`. Strings can be enclosed in single (`'`) or double (`\"`) quotes.\n",
        "- Booleans (`bool`) - A true or false value, represented by the keywords `True` and `False`.\n",
        "- Lists (`list`) - An ordered collection of values, enclosed in square brackets and separated by commas. For example: `[1, 2, 3]`.\n",
        "- Tuples (`tuple`) - Similar to lists, but enclosed in parentheses and cannot be modified once created. For example: `(1, 2, 3)`.\n",
        "- Dictionaries (`dict`) - An unordered collection of key-value pairs. For example: `{\"name\": \"John\", \"age\": 30}`."
      ]
    },
    {
      "attachments": {},
      "cell_type": "markdown",
      "metadata": {},
      "source": [
        "Take the below example, what datatypes are variables `x` and `y`? What output do we predict to see displayed in the terminal?"
      ]
    },
    {
      "cell_type": "code",
      "execution_count": null,
      "metadata": {},
      "outputs": [],
      "source": [
        "x = 5\n",
        "y = \"5\"\n",
        "\n",
        "print(x)\n",
        "print(y)"
      ]
    },
    {
      "attachments": {},
      "cell_type": "markdown",
      "metadata": {},
      "source": [
        "How can we check the data type of a variable? We use the `type()` function. For example:"
      ]
    },
    {
      "cell_type": "code",
      "execution_count": null,
      "metadata": {
        "colab": {
          "base_uri": "https://localhost:8080/"
        },
        "id": "d4xQjbKXOl08",
        "outputId": "72475935-a687-4514-869a-a92a75217ea6"
      },
      "outputs": [],
      "source": [
        "print(type(x))\n",
        "print(type(y))"
      ]
    },
    {
      "cell_type": "markdown",
      "metadata": {
        "id": "djOB3JHgOwlu"
      },
      "source": [
        "It's also possible to change the data type of a variable by using the appropriate casting function, like `int()`, `float()`, `str()`, etc."
      ]
    },
    {
      "cell_type": "code",
      "execution_count": null,
      "metadata": {
        "colab": {
          "base_uri": "https://localhost:8080/"
        },
        "id": "Jv_LGoQmOx7h",
        "outputId": "3ae5bbf5-8a0a-4adf-ae00-4a283d591f05"
      },
      "outputs": [],
      "source": [
        "x = 5\n",
        "print(x)\n",
        "print(type(x))"
      ]
    },
    {
      "cell_type": "code",
      "execution_count": null,
      "metadata": {},
      "outputs": [],
      "source": [
        "x = float(x)\n",
        "print(x)\n",
        "print(type(x))"
      ]
    },
    {
      "cell_type": "code",
      "execution_count": null,
      "metadata": {},
      "outputs": [],
      "source": [
        "x = str(x)\n",
        "print(x)\n",
        "print(type(x))"
      ]
    },
    {
      "attachments": {},
      "cell_type": "markdown",
      "metadata": {
        "id": "UkkkwkXTO_n1"
      },
      "source": [
        "Please note that different data types can have different behavior when performing operations. For now let's look at strings. Using the addition operator on two strings causes the two strings to become concatenated. The multiplications of a string with an integer `n`, causes the string to be concatenated upon itself `n` times."
      ]
    },
    {
      "cell_type": "code",
      "execution_count": 3,
      "metadata": {
        "colab": {
          "base_uri": "https://localhost:8080/"
        },
        "id": "L-h6pTojPHA1",
        "outputId": "45ac41fd-0275-488a-c034-d46ac8add3c1"
      },
      "outputs": [],
      "source": [
        "x = \"Hello\"\n",
        "y = \"world\""
      ]
    },
    {
      "cell_type": "code",
      "execution_count": 4,
      "metadata": {},
      "outputs": [
        {
          "name": "stdout",
          "output_type": "stream",
          "text": [
            "Helloworld\n"
          ]
        }
      ],
      "source": [
        "print(x + y)"
      ]
    },
    {
      "cell_type": "code",
      "execution_count": 5,
      "metadata": {},
      "outputs": [
        {
          "name": "stdout",
          "output_type": "stream",
          "text": [
            "HelloHelloHello\n"
          ]
        }
      ],
      "source": [
        "print(x * 3)"
      ]
    },
    {
      "cell_type": "code",
      "execution_count": 6,
      "metadata": {},
      "outputs": [
        {
          "name": "stdout",
          "output_type": "stream",
          "text": [
            "HelloHelloHelloworldworld\n"
          ]
        }
      ],
      "source": [
        "print((x * 3) + (y * 2))"
      ]
    },
    {
      "attachments": {},
      "cell_type": "markdown",
      "metadata": {},
      "source": [
        "## Invalid Variable Names"
      ]
    },
    {
      "attachments": {},
      "cell_type": "markdown",
      "metadata": {},
      "source": [
        "Not all variable names are valid. A variable name must start with a letter or underscore, and can only contain letters, numbers and underscores. For example, the following are all valid variable names:\n",
        "\n",
        "```python\n",
        "x = 5\n",
        "my_variable = 3\n",
        "myVariable = 3\n",
        "_my_variable = 3\n",
        "MY_VARIABLE = 3\n",
        "myVariable2 = 3\n",
        "```\n",
        "\n",
        "The following are not valid variable names:\n",
        "\n",
        "```python\n",
        "2my_variable = 3\n",
        "my-variable = 3\n",
        "my variable = 3\n",
        "```\n",
        "\n",
        "Also be cautious of using the names of Python built-ins as variable names as this can cause unexpected behavior. For example, the following should not be considered valid variable names:\n",
        "\n",
        "```python\n",
        "def = 3\n",
        "class = 3\n",
        "if = 3\n",
        "```\n",
        "\n",
        "Notice the syntax highlighting in the above examples. The names of Python built-ins are highlighted in a different color than the names of variables. This is a useful feature to help you avoid using built-in names as variable names."
      ]
    },
    {
      "attachments": {},
      "cell_type": "markdown",
      "metadata": {},
      "source": [
        "## Commenting Your Code"
      ]
    },
    {
      "attachments": {},
      "cell_type": "markdown",
      "metadata": {},
      "source": [
        "You can add comments almost anywhere in your Python code by using the `#` symbol. Comments are ignored by the Python interpreter, and are used to explain what your code does. For example:"
      ]
    },
    {
      "cell_type": "code",
      "execution_count": null,
      "metadata": {},
      "outputs": [],
      "source": [
        "x = 5 # x is an integer equal to 5\n",
        "y = 2 # y is an integer equal to 2\n",
        "# z = x + y # z is an integer equal to 7. This line is commented out."
      ]
    },
    {
      "attachments": {},
      "cell_type": "markdown",
      "metadata": {},
      "source": [
        "Commenting your code is a good practice, as it makes your code more readable and easier to understand. It's also a good idea to comment out code that you don't want to run, instead of deleting it. This way you can easily uncomment it later if you need to."
      ]
    },
    {
      "attachments": {},
      "cell_type": "markdown",
      "metadata": {},
      "source": [
        "## Further Reading"
      ]
    },
    {
      "attachments": {},
      "cell_type": "markdown",
      "metadata": {},
      "source": [
        "Check out these articles on [W3Schools](https://www.w3schools.com) for more information on variables and data types in Python:\n",
        "\n",
        "- [Python Variables](https://www.w3schools.com/python/python_variables.asp)\n",
        "- [Python Data Types](https://www.w3schools.com/python/python_datatypes.asp)\n",
        "- [Python Casting](https://www.w3schools.com/python/python_casting.asp)\n",
        "- [Python Print Statement](https://www.w3schools.com/python/ref_func_print.asp)\n",
        "- [Python Input](https://www.w3schools.com/python/python_user_input.asp)\n",
        "\n",
        "Also, check out the [Python documentation](https://docs.python.org/3/) for more information on variables and data types in Python.\n",
        "\n",
        "Finally, don't be afraid to use a search engine to supplement your learning and fill any gaps in your knowledge. For example, you can search for \"python variables\" or \"python data types\" to find more information on variables and data types in Python. Websites Like [StackOverflow](https://stackoverflow.com/) and [W3Schools](https://www.w3schools.com) are great resources for finding answers to your questions.\n",
        "\n",
        "This is an essential part of learning Python, as not everything can be covered in a single set of lessons or tutorials. It's also critical that you consider alternative perspectives on any learning topic, as there are often multiple ways to approach a problem."
      ]
    }
  ],
  "metadata": {
    "colab": {
      "provenance": []
    },
    "kernelspec": {
      "display_name": "Python 3",
      "language": "python",
      "name": "python3"
    },
    "language_info": {
      "codemirror_mode": {
        "name": "ipython",
        "version": 3
      },
      "file_extension": ".py",
      "mimetype": "text/x-python",
      "name": "python",
      "nbconvert_exporter": "python",
      "pygments_lexer": "ipython3",
      "version": "3.12.2"
    },
    "vscode": {
      "interpreter": {
        "hash": "916dbcbb3f70747c44a77c7bcd40155683ae19c65e1c03b4aa3499c5328201f1"
      }
    }
  },
  "nbformat": 4,
  "nbformat_minor": 0
}
